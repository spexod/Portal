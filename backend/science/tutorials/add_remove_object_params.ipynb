{
 "cells": [
  {
   "cell_type": "markdown",
   "metadata": {
    "collapsed": true,
    "pycharm": {
     "name": "#%% md\n"
    }
   },
   "source": [
    "# Add/Remove Object Params from SpExoDisks\n",
    "\n",
    "These examples show how to:\n",
    "* Add a parameter using the .add_param() method of the ObjectCollection class,\n",
    "* Remove a parameter using the .remove_param() method of the ObjectCollection class,\n",
    "* Request data for a specific object, and\n",
    "* Make the object parameters file \"disk_params.csv\"\n",
    " from an existing ObjectCollection.object_params\n",
    " instance."
   ]
  },
  {
   "cell_type": "markdown",
   "source": [
    "## Import Statements"
   ],
   "metadata": {
    "collapsed": false
   }
  },
  {
   "cell_type": "code",
   "execution_count": 1,
   "outputs": [
    {
     "name": "stdout",
     "output_type": "stream",
     "text": [
      "Created TAP+ (v1.2.1) - Connection:\n",
      "\tHost: gea.esac.esa.int\n",
      "\tUse HTTPS: True\n",
      "\tPort: 443\n",
      "\tSSL Port: 443\n",
      "Created TAP+ (v1.2.1) - Connection:\n",
      "\tHost: geadata.esac.esa.int\n",
      "\tUse HTTPS: True\n",
      "\tPort: 443\n",
      "\tSSL Port: 443\n"
     ]
    }
   ],
   "source": [
    "import os\n",
    "from ref.ref import ref_dir\n",
    "from science.analyze.object_collection import ObjectCollection\n",
    "# A definition that is useful for printing data in this example\n",
    "def print_params(single_object):\n",
    "    print(\"object_data for:\", single_object.preferred_simbad_name)\n",
    "    for param_name in single_object.object_params.keys():\n",
    "        for param in single_object.object_params[param_name]:\n",
    "            print(\" \", param_name, param)"
   ],
   "metadata": {
    "collapsed": false,
    "pycharm": {
     "name": "#%%\n"
    }
   }
  },
  {
   "cell_type": "markdown",
   "source": [
    "## Load Data\n",
    "You are only loading the SpExoDisks default disk/object\n",
    "parameters file. To do this you use the ObjectCollection method:\n",
    ".update_main_file().\n",
    "\n",
    "    Note: Usually you call the .update_params() method\n",
    "    that calls .update_main_file() and similar methods for\n",
    "    Gaia as well as a number of other data sources."
   ],
   "metadata": {
    "collapsed": false,
    "pycharm": {
     "name": "#%% md\n"
    }
   }
  },
  {
   "cell_type": "code",
   "execution_count": 2,
   "outputs": [
    {
     "name": "stdout",
     "output_type": "stream",
     "text": [
      "SpExoDisk database initialized.\n",
      "Updated object parameters from user file: /Users/chw3k5/PycharmProjects/SpExoDisks/spexodisks/load/reference_data/objects/disk_params.csv\n"
     ]
    }
   ],
   "source": [
    "oc = ObjectCollection(verbose=True, simbad_go_fast=False)\n",
    "oc.update_main_file()"
   ],
   "metadata": {
    "collapsed": false,
    "pycharm": {
     "name": "#%%\n"
    }
   }
  },
  {
   "cell_type": "markdown",
   "source": [
    "## Add parameter\n",
    "Here you see the method for adding a parameter .add_param(), for which\n",
    "you need three things:\n",
    "1. hypatia_name=\"string name\" where string name returns\n",
    " a result on\n",
    "[Simbad](http://simbad.u-strasbg.fr/simbad/sim-fbasic);\n",
    "2. param_str=\"someParams\" which should match any existing parameter string,\n",
    "for example, 'Teff' in SpExoDisks denotes the effective temperature for an object; and\n",
    "3. value=something."
   ],
   "metadata": {
    "collapsed": false,
    "pycharm": {
     "name": "#%% md\n"
    }
   }
  },
  {
   "cell_type": "code",
   "execution_count": 3,
   "outputs": [],
   "source": [
    "oc.add_param(hypatia_name=\"HIP 23143\",\n",
    "             param_str=\"Teff\", value=-7777.7)"
   ],
   "metadata": {
    "collapsed": false,
    "pycharm": {
     "name": "#%%\n"
    }
   }
  },
  {
   "cell_type": "markdown",
   "source": [
    "## Request Object Data\n",
    "Now try requesting data for HIP 23143 to make\n",
    "sure the data was added to the correct star,\n",
    "which you do by using the .get_single_star() method.\n",
    "\n",
    "    Note: HIP 23143 has a different prefered name in SpExoDisks,\n",
    "    which is printed in the cell below."
   ],
   "metadata": {
    "collapsed": false,
    "pycharm": {
     "name": "#%% md\n"
    }
   }
  },
  {
   "cell_type": "code",
   "execution_count": 4,
   "outputs": [
    {
     "name": "stdout",
     "output_type": "stream",
     "text": [
      "object_data for: HD 031648\n",
      "  rings SingleParam(value='mm', err=None, ref='Long+2018', units=None, notes=None)\n",
      "  logMdisk SingleParam(value=2.153, err=None, ref='Pascucci+2016', units='[M_earth]', notes=None)\n",
      "  F30_F13.5 SingleParam(value=1.19, err=None, ref='Maaskant+2014', units='fl ratio', notes=None)\n",
      "  n_13_31 SingleParam(value=-0.79, err=None, ref=None, units='index', notes=None)\n",
      "  M_star SingleParam(value=2, err=None, ref=None, units='M_sun', notes=None)\n",
      "  logRdust SingleParam(value=2.15, err=None, ref='Long+2019', units=None, notes=None)\n",
      "  1_3mm SingleParam(value=257, err=None, ref='Andrews+2013', units='[mJy]', notes=None)\n",
      "  Teff SingleParam(value=8800, err=190, ref='Folsom+2012', units='K', notes=None)\n",
      "  Teff SingleParam(value=-7777.7, err=None, ref=None, units=None, notes=None)\n",
      "  dist SingleParam(value=162, err=None, ref='Vioque+2018(GAIA)', units='[pc]', notes=None)\n",
      "  F(NIR)/F* SingleParam(value=14.8, err=None, ref=None, units=None, notes=None)\n",
      "  age SingleParam(value=7.5, err=None, ref='Manoj+2006', units='[Myr]', notes=None)\n",
      "  0_88mm SingleParam(value=751, err=None, ref=None, units='[mJy]', notes=None)\n",
      "  L_star SingleParam(value=22, err=None, ref=None, units='L_sun', notes=None)\n",
      "  logM_acc SingleParam(value=-7.21, err=None, ref='Salyk+2013', units='M_sun/yr', notes=None)\n",
      "  SpT SingleParam(value='A5', err=None, ref=None, units=None, notes=None)\n",
      "  logL_acc SingleParam(value=0.11, err=None, ref=None, units='L_sun', notes=None)\n",
      "  object_type SingleParam(value='Herb_II', err=None, ref=None, units=None, notes=None)\n",
      "  name_ohter SingleParam(value='MWC480', err=None, ref=None, units=None, notes=None)\n"
     ]
    }
   ],
   "source": [
    "hip23143 = oc.get_single_star(\"HIP 23143\")\n",
    "print_params(hip23143)\n"
   ],
   "metadata": {
    "collapsed": false,
    "pycharm": {
     "name": "#%%\n"
    }
   }
  },
  {
   "cell_type": "markdown",
   "source": [
    "You see the only parameter that was added was the negative effective temperature\n",
    " (added here so it won't get confused with real data).\n",
    "\n",
    "You can add more detailed parameter information. Each parameter must\n",
    "have a value, but it can also have:\n",
    "1. err\n",
    "2. ref\n",
    "3. units\n",
    "4. notes\n",
    "\n",
    "By default, these are all set to 'None' and do not need to be specified.\n",
    "Use the example below to include these attributes, if you have them."
   ],
   "metadata": {
    "collapsed": false,
    "pycharm": {
     "name": "#%% md\n"
    }
   }
  },
  {
   "cell_type": "code",
   "execution_count": 5,
   "outputs": [
    {
     "name": "stdout",
     "output_type": "stream",
     "text": [
      "object_data for: HD 031648\n",
      "  rings SingleParam(value='mm', err=None, ref='Long+2018', units=None, notes=None)\n",
      "  logMdisk SingleParam(value=2.153, err=None, ref='Pascucci+2016', units='[M_earth]', notes=None)\n",
      "  F30_F13.5 SingleParam(value=1.19, err=None, ref='Maaskant+2014', units='fl ratio', notes=None)\n",
      "  n_13_31 SingleParam(value=-0.79, err=None, ref=None, units='index', notes=None)\n",
      "  M_star SingleParam(value=2, err=None, ref=None, units='M_sun', notes=None)\n",
      "  logRdust SingleParam(value=2.15, err=None, ref='Long+2019', units=None, notes=None)\n",
      "  1_3mm SingleParam(value=257, err=None, ref='Andrews+2013', units='[mJy]', notes=None)\n",
      "  Teff SingleParam(value=8800, err=190, ref='Folsom+2012', units='K', notes=None)\n",
      "  Teff SingleParam(value=-9999.0, err=-20, ref='Tutorial Example', units='K', notes='This should not end up in the permanent reference file')\n",
      "  Teff SingleParam(value=-7777.7, err=None, ref=None, units=None, notes=None)\n",
      "  dist SingleParam(value=162, err=None, ref='Vioque+2018(GAIA)', units='[pc]', notes=None)\n",
      "  F(NIR)/F* SingleParam(value=14.8, err=None, ref=None, units=None, notes=None)\n",
      "  age SingleParam(value=7.5, err=None, ref='Manoj+2006', units='[Myr]', notes=None)\n",
      "  0_88mm SingleParam(value=751, err=None, ref=None, units='[mJy]', notes=None)\n",
      "  L_star SingleParam(value=22, err=None, ref=None, units='L_sun', notes=None)\n",
      "  logM_acc SingleParam(value=-7.21, err=None, ref='Salyk+2013', units='M_sun/yr', notes=None)\n",
      "  SpT SingleParam(value='A5', err=None, ref=None, units=None, notes=None)\n",
      "  logL_acc SingleParam(value=0.11, err=None, ref=None, units='L_sun', notes=None)\n",
      "  object_type SingleParam(value='Herb_II', err=None, ref=None, units=None, notes=None)\n",
      "  name_ohter SingleParam(value='MWC480', err=None, ref=None, units=None, notes=None)\n"
     ]
    }
   ],
   "source": [
    "oc.add_param(hypatia_name=\"HIP 23143\",\n",
    "             param_str=\"Teff\", value=-9999.0,\n",
    "             err=-20,\n",
    "             units='K',\n",
    "             ref=\"Tutorial Example\",\n",
    "             notes=\"This should not end up in the permanent reference file\")\n",
    "print_params(hip23143)"
   ],
   "metadata": {
    "collapsed": false,
    "pycharm": {
     "name": "#%%\n"
    }
   }
  },
  {
   "cell_type": "markdown",
   "source": [
    "Parameters are stored as a 'set' -- which is a specific type in Python.\n",
    "Sets do not allow duplicate entries,\n",
    "thus duplicate parameters are not allowed.\n",
    "See what happens if you add the same parameter again:"
   ],
   "metadata": {
    "collapsed": false,
    "pycharm": {
     "name": "#%% md\n"
    }
   }
  },
  {
   "cell_type": "code",
   "execution_count": 6,
   "outputs": [
    {
     "name": "stdout",
     "output_type": "stream",
     "text": [
      "object_data for: HD 031648\n",
      "  rings SingleParam(value='mm', err=None, ref='Long+2018', units=None, notes=None)\n",
      "  logMdisk SingleParam(value=2.153, err=None, ref='Pascucci+2016', units='[M_earth]', notes=None)\n",
      "  F30_F13.5 SingleParam(value=1.19, err=None, ref='Maaskant+2014', units='fl ratio', notes=None)\n",
      "  n_13_31 SingleParam(value=-0.79, err=None, ref=None, units='index', notes=None)\n",
      "  M_star SingleParam(value=2, err=None, ref=None, units='M_sun', notes=None)\n",
      "  logRdust SingleParam(value=2.15, err=None, ref='Long+2019', units=None, notes=None)\n",
      "  1_3mm SingleParam(value=257, err=None, ref='Andrews+2013', units='[mJy]', notes=None)\n",
      "  Teff SingleParam(value=8800, err=190, ref='Folsom+2012', units='K', notes=None)\n",
      "  Teff SingleParam(value=-9999.0, err=-20, ref='Tutorial Example', units='K', notes='This should not end up in the permanent reference file')\n",
      "  Teff SingleParam(value=-7777.7, err=None, ref=None, units=None, notes=None)\n",
      "  dist SingleParam(value=162, err=None, ref='Vioque+2018(GAIA)', units='[pc]', notes=None)\n",
      "  F(NIR)/F* SingleParam(value=14.8, err=None, ref=None, units=None, notes=None)\n",
      "  age SingleParam(value=7.5, err=None, ref='Manoj+2006', units='[Myr]', notes=None)\n",
      "  0_88mm SingleParam(value=751, err=None, ref=None, units='[mJy]', notes=None)\n",
      "  L_star SingleParam(value=22, err=None, ref=None, units='L_sun', notes=None)\n",
      "  logM_acc SingleParam(value=-7.21, err=None, ref='Salyk+2013', units='M_sun/yr', notes=None)\n",
      "  SpT SingleParam(value='A5', err=None, ref=None, units=None, notes=None)\n",
      "  logL_acc SingleParam(value=0.11, err=None, ref=None, units='L_sun', notes=None)\n",
      "  object_type SingleParam(value='Herb_II', err=None, ref=None, units=None, notes=None)\n",
      "  name_ohter SingleParam(value='MWC480', err=None, ref=None, units=None, notes=None)\n"
     ]
    }
   ],
   "source": [
    "oc.add_param(hypatia_name=\"HIP 23143\",\n",
    "             param_str=\"Teff\", value=-9999.0,\n",
    "             err=-20,\n",
    "             units='K',\n",
    "             ref=\"Tutorial Example\",\n",
    "             notes=\"This should not end up in the permanent reference file\")\n",
    "print_params(hip23143)"
   ],
   "metadata": {
    "collapsed": false,
    "pycharm": {
     "name": "#%%\n"
    }
   }
  },
  {
   "cell_type": "markdown",
   "source": [
    "In other words, nothing happens, but notice there is only one copy of the parameter.\n",
    "\n",
    "## Remove a Parameter\n",
    "Here you see the method for removing a parameter\n",
    ".remove_param(), which has the same requirements as .add_param()."
   ],
   "metadata": {
    "collapsed": false,
    "pycharm": {
     "name": "#%% md\n"
    }
   }
  },
  {
   "cell_type": "code",
   "execution_count": 7,
   "outputs": [
    {
     "name": "stdout",
     "output_type": "stream",
     "text": [
      "object_data for: HD 031648\n",
      "  rings SingleParam(value='mm', err=None, ref='Long+2018', units=None, notes=None)\n",
      "  logMdisk SingleParam(value=2.153, err=None, ref='Pascucci+2016', units='[M_earth]', notes=None)\n",
      "  F30_F13.5 SingleParam(value=1.19, err=None, ref='Maaskant+2014', units='fl ratio', notes=None)\n",
      "  n_13_31 SingleParam(value=-0.79, err=None, ref=None, units='index', notes=None)\n",
      "  M_star SingleParam(value=2, err=None, ref=None, units='M_sun', notes=None)\n",
      "  logRdust SingleParam(value=2.15, err=None, ref='Long+2019', units=None, notes=None)\n",
      "  1_3mm SingleParam(value=257, err=None, ref='Andrews+2013', units='[mJy]', notes=None)\n",
      "  Teff SingleParam(value=8800, err=190, ref='Folsom+2012', units='K', notes=None)\n",
      "  Teff SingleParam(value=-7777.7, err=None, ref=None, units=None, notes=None)\n",
      "  dist SingleParam(value=162, err=None, ref='Vioque+2018(GAIA)', units='[pc]', notes=None)\n",
      "  F(NIR)/F* SingleParam(value=14.8, err=None, ref=None, units=None, notes=None)\n",
      "  age SingleParam(value=7.5, err=None, ref='Manoj+2006', units='[Myr]', notes=None)\n",
      "  0_88mm SingleParam(value=751, err=None, ref=None, units='[mJy]', notes=None)\n",
      "  L_star SingleParam(value=22, err=None, ref=None, units='L_sun', notes=None)\n",
      "  logM_acc SingleParam(value=-7.21, err=None, ref='Salyk+2013', units='M_sun/yr', notes=None)\n",
      "  SpT SingleParam(value='A5', err=None, ref=None, units=None, notes=None)\n",
      "  logL_acc SingleParam(value=0.11, err=None, ref=None, units='L_sun', notes=None)\n",
      "  object_type SingleParam(value='Herb_II', err=None, ref=None, units=None, notes=None)\n",
      "  name_ohter SingleParam(value='MWC480', err=None, ref=None, units=None, notes=None)\n"
     ]
    }
   ],
   "source": [
    "oc.remove_param(hypatia_name=\"HIP 23143\",\n",
    "                param_str=\"Teff\", value=-9999.0,\n",
    "                err=-20,\n",
    "                units='K',\n",
    "                ref=\"Tutorial Example\",\n",
    "                notes=\"This should not end up in the permanent reference file\")\n",
    "print_params(hip23143)"
   ],
   "metadata": {
    "collapsed": false,
    "pycharm": {
     "name": "#%%\n"
    }
   }
  },
  {
   "cell_type": "markdown",
   "source": [
    "The .remove_param() call will raise an exception if the parameter\n",
    "does not exist. To see this, run the above cell a 2nd time.\n",
    "\n",
    "## Make an Output\n",
    "When you want to export updated object parameters\n",
    "to a file you can use the .write() method.\n",
    "\n",
    "By default, the file's name is based on today's date:\n",
    "YYYY_MM_DD_SpExoDisksOutput.csv\n",
    "\n",
    "The file is located in the directory:\n",
    "/SpExoDisks/spexodisks/load/data_products/"
   ],
   "metadata": {
    "collapsed": false,
    "pycharm": {
     "name": "#%% md\n"
    }
   }
  },
  {
   "cell_type": "code",
   "execution_count": 8,
   "outputs": [
    {
     "name": "stdout",
     "output_type": "stream",
     "text": [
      "\n",
      " Output SpExoDisks file written to: /Users/chw3k5/PycharmProjects/SpExoDisks/spexodisks/load/data_products/2020_05_26_SpExoDisksOutput.csv \n"
     ]
    }
   ],
   "source": [
    "oc.write()"
   ],
   "metadata": {
    "collapsed": false,
    "pycharm": {
     "name": "#%%\n"
    }
   }
  },
  {
   "cell_type": "markdown",
   "source": [
    "## Overwrite default object params\n",
    "\n",
    "The default object parameters are stored in the file \"disk_params.csv\"\n",
    "which is found under:\n",
    "SpExoDisks/spexodisks/load/reference_data/objects/\n",
    "\n",
    "To avoid potential conflict with other users,\n",
    "you will make a different file called\n",
    "\"test_disk_params.csv\" so that you can explore the process\n",
    "of overwriting the default disk parameters file\n",
    "without worrying about the SpExoDisks database will be affected.\n"
   ],
   "metadata": {
    "collapsed": false,
    "pycharm": {
     "name": "#%% md\n"
    }
   }
  },
  {
   "cell_type": "code",
   "execution_count": 9,
   "outputs": [
    {
     "name": "stdout",
     "output_type": "stream",
     "text": [
      "Object data output file name /Users/chw3k5/PycharmProjects/SpExoDisks/spexodisks/load/reference_data/objects/test_disk_params.csv\n",
      "\n",
      " Output SpExoDisks file written to: /Users/chw3k5/PycharmProjects/SpExoDisks/spexodisks/load/reference_data/objects/test_disk_params.csv \n"
     ]
    }
   ],
   "source": [
    "test_disk_params_file = os.path.join(ref_dir, 'objects', 'test_disk_params.csv')\n",
    "print(\"Object data output file name\", test_disk_params_file)\n",
    "\n",
    "oc.write(file_name=test_disk_params_file)"
   ],
   "metadata": {
    "collapsed": false,
    "pycharm": {
     "name": "#%%\n"
    }
   }
  },
  {
   "cell_type": "markdown",
   "source": [
    "Now that you have written the output file,\n",
    "you must read it back in for checking. You will need\n",
    "to specify the filename for read-in since this\n",
    "example is for a filename that is different from the default.\n"
   ],
   "metadata": {
    "collapsed": false,
    "pycharm": {
     "name": "#%% md\n"
    }
   }
  },
  {
   "cell_type": "code",
   "execution_count": 10,
   "outputs": [
    {
     "name": "stdout",
     "output_type": "stream",
     "text": [
      "SpExoDisk database initialized.\n",
      "Updated object parameters from user file: /Users/chw3k5/PycharmProjects/SpExoDisks/spexodisks/load/reference_data/objects/test_disk_params.csv\n"
     ]
    }
   ],
   "source": [
    "oc_2 = ObjectCollection(verbose=True, simbad_go_fast=False)\n",
    "oc_2.update_main_file(file_name=test_disk_params_file)"
   ],
   "metadata": {
    "collapsed": false,
    "pycharm": {
     "name": "#%%\n"
    }
   }
  },
  {
   "cell_type": "markdown",
   "source": [
    "You will now create 4 new but familiar variables,\n",
    "to show that the negative Teff value survived the\n",
    "input/output process."
   ],
   "metadata": {
    "collapsed": false,
    "pycharm": {
     "name": "#%% md\n"
    }
   }
  },
  {
   "cell_type": "code",
   "execution_count": 11,
   "outputs": [
    {
     "name": "stdout",
     "output_type": "stream",
     "text": [
      "object_data for: HD 031648\n",
      "  rings SingleParam(value='mm', err=None, ref='Long+2018', units=None, notes=None)\n",
      "  logMdisk SingleParam(value=2.153, err=None, ref='Pascucci+2016', units='[M_earth]', notes=None)\n",
      "  F30_F13.5 SingleParam(value=1.19, err=None, ref='Maaskant+2014', units='fl ratio', notes=None)\n",
      "  n_13_31 SingleParam(value=-0.79, err=None, ref=None, units='index', notes=None)\n",
      "  M_star SingleParam(value=2, err=None, ref=None, units='M_sun', notes=None)\n",
      "  logRdust SingleParam(value=2.15, err=None, ref='Long+2019', units=None, notes=None)\n",
      "  1_3mm SingleParam(value=257, err=None, ref='Andrews+2013', units='[mJy]', notes=None)\n",
      "  Teff SingleParam(value=8800, err=190, ref='Folsom+2012', units='K', notes=None)\n",
      "  Teff SingleParam(value=-7777.7, err=None, ref=None, units=None, notes=None)\n",
      "  dist SingleParam(value=162, err=None, ref='Vioque+2018(GAIA)', units='[pc]', notes=None)\n",
      "  F(NIR)/F* SingleParam(value=14.8, err=None, ref=None, units=None, notes=None)\n",
      "  age SingleParam(value=7.5, err=None, ref='Manoj+2006', units='[Myr]', notes=None)\n",
      "  0_88mm SingleParam(value=751, err=None, ref=None, units='[mJy]', notes=None)\n",
      "  L_star SingleParam(value=22, err=None, ref=None, units='L_sun', notes=None)\n",
      "  logM_acc SingleParam(value=-7.21, err=None, ref='Salyk+2013', units='M_sun/yr', notes=None)\n",
      "  SpT SingleParam(value='A5', err=None, ref=None, units=None, notes=None)\n",
      "  logL_acc SingleParam(value=0.11, err=None, ref=None, units='L_sun', notes=None)\n",
      "  object_type SingleParam(value='Herb_II', err=None, ref=None, units=None, notes=None)\n",
      "  name_ohter SingleParam(value='MWC480', err=None, ref=None, units=None, notes=None)\n"
     ]
    }
   ],
   "source": [
    "hip23143_2 = oc_2.get_single_star(\"HIP 23143\")\n",
    "print_params(hip23143_2)\n"
   ],
   "metadata": {
    "collapsed": false,
    "pycharm": {
     "name": "#%%\n"
    }
   }
  },
  {
   "cell_type": "markdown",
   "source": [
    "### When overwriting \"disk_params.csv\"\n",
    "\n",
    "The default file \"disk_params.csv\" is a version-controlled\n",
    "file in SpExoDisks. To make your\n",
    "updates available to the entire collaboration,\n",
    "you must commit and push your changes to this file:\n",
    "\n",
    "1. \"Update Project\" by using the VCS dropdown menu in PyCharm,\n",
    "and select \"Update Project\". Solve any issues\n",
    "between your local computer's version of the\n",
    "repository and the version on GitHub before\n",
    "proceeding.\n",
    "\n",
    "2. \"Commit\" your code in your repository, at least or\n",
    "including the disk.params.csv file. Use the VCS\n",
    "dropdown menu and select \"Commit\". Use the pop-up window to make\n",
    "your commit and be sure to write a detailed message about\n",
    "what you changed in case the version needs to be reverted at a\n",
    "later time/date.\n",
    "\n",
    "3. \"Push\" your changes. Use the VCS dropdown menu and\n",
    "navigate to \"Git,\" then select \"Push\" in the submenu.\n",
    "\n",
    "\n",
    "Below is a small amount of clean up code to delete the test file."
   ],
   "metadata": {
    "collapsed": false,
    "pycharm": {
     "name": "#%% md\n"
    }
   }
  },
  {
   "cell_type": "code",
   "execution_count": 12,
   "outputs": [],
   "source": [
    "if input(\"Delete the file: \" + str(test_disk_params_file) + \"\\n[y/n]\").lower() in {\"y\", 'yes', \"true\"}:\n",
    "    os.remove(test_disk_params_file)"
   ],
   "metadata": {
    "collapsed": false,
    "pycharm": {
     "name": "#%%\n"
    }
   }
  }
 ],
 "metadata": {
  "kernelspec": {
   "display_name": "Python 3",
   "language": "python",
   "name": "python3"
  },
  "language_info": {
   "codemirror_mode": {
    "name": "ipython",
    "version": 2
   },
   "file_extension": ".py",
   "mimetype": "text/x-python",
   "name": "python",
   "nbconvert_exporter": "python",
   "pygments_lexer": "ipython2",
   "version": "2.7.6"
  }
 },
 "nbformat": 4,
 "nbformat_minor": 0
}
