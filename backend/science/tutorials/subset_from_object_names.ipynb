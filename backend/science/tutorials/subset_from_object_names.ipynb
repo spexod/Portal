{
 "cells": [
  {
   "cell_type": "markdown",
   "metadata": {
    "pycharm": {
     "name": "#%% md\n"
    }
   },
   "source": [
    "# Data Output\n",
    " These examples show how to:\n",
    " * Export SpExoDisks data into a .csv output file, and\n",
    " * Get a subset of SpExoDisks data using a file\n",
    " with desired star names.\n"
   ]
  },
  {
   "cell_type": "markdown",
   "source": [
    "## Import Statements"
   ],
   "metadata": {
    "collapsed": false
   }
  },
  {
   "cell_type": "code",
   "execution_count": 4,
   "metadata": {},
   "outputs": [],
   "source": [
    "import os\n",
    "from science.analyze.object_collection import ObjectCollection\n",
    "from ref.ref import ref_dir, data_pro_dir"
   ]
  },
  {
   "cell_type": "markdown",
   "source": [
    "## Get all the SpExoDisks data loaded and ready"
   ],
   "metadata": {
    "collapsed": false
   }
  },
  {
   "cell_type": "code",
   "execution_count": 5,
   "metadata": {
    "pycharm": {
     "name": "#%%\n"
    }
   },
   "outputs": [
    {
     "name": "stdout",
     "output_type": "stream",
     "text": [
      "SpExoDisk database initialized.\n",
      "\n",
      " Importing Spectra\n",
      "Loading crires spectra, 132 files found.\n",
      "Loading crires_ch4_spectra spectra, 3 files found.\n",
      "Loading crires_h2o_spectra spectra, 39 files found.\n",
      "Loading crires_hcn_spectra spectra, 6 files found.\n",
      "Loading crires_other_spectra spectra, 29 files found.\n",
      "Loading visir_h2_setting_v1 spectra, 13 files found.\n",
      "Loading visir_h2o_setting_v1 spectra, 47 files found.\n",
      "Loading visir_neii_setting_v1 spectra, 42 files found.\n",
      " Spectra Imported\n",
      "\n",
      " Updating per object parameters\n",
      "Updated object parameters from user file: C:\\Users\\chw3k5\\PycharmProjects\\SpExoDisks\\spexodisks\\load\\reference_data\\objects\\disk_params.csv\n",
      "Updated object parameters from Gaia for all SpExoDisks objects.\n",
      "Updated object parameters from Tess Input Catalog for all SpExoDisks objects.\n",
      " Object parameters updated\n"
     ]
    }
   ],
   "source": [
    "# Heading\n",
    "oc = ObjectCollection(verbose=True, simbad_go_fast=False)\n",
    "oc.import_spectra()\n",
    "oc.update_params()"
   ]
  },
  {
   "cell_type": "markdown",
   "metadata": {
    "pycharm": {
     "name": "#%% md\n"
    }
   },
   "source": [
    "## Get an OutputCollection from a file of object names\n",
    "The object names to find in SpExoDisks should be\n",
    "in a .csv file.\n",
    "Each object name is should return a result in\n",
    "[Simbad](http://simbad.u-strasbg.fr/simbad/sim-fbasic)\n",
    "and be separated by \",\" or a new line. The example file is: SpExoDisks/spexodisks/load/reference_data/star_lists/may2020_star_list.csv\n",
    "\n",
    "Three variables are created here. There are two\n",
    "sets containing the names of stars that were found and not found.\n",
    "The variable OutputCollection contains the SpExoDisks\n",
    "data for objects that were found.\n",
    "\n",
    "The data for the found stars can be accessed through the object 'output_collection'."
   ]
  },
  {
   "cell_type": "code",
   "execution_count": 6,
   "metadata": {
    "pycharm": {
     "name": "#%%\n"
    }
   },
   "outputs": [
    {
     "name": "stdout",
     "output_type": "stream",
     "text": [
      "Using Star List from: C:\\Users\\chw3k5\\PycharmProjects\\SpExoDisks\\spexodisks\\load\\reference_data\\star_lists\\may2020_star_list.csv\n",
      "Exporting and object set based on a list of requested objects.\n",
      "SpExoDisk database initialized.\n",
      "  Output objects collection exported.\n",
      "   Objects found: ['V* GQ LUP', 'V* V2062 OPH', 'V* V1121 OPH', '2MASS J18295688+0114463', '2MASS J16065622-2743364', 'V* DG TAU', 'V* DG CRA', 'V* V866 SCO B', 'V* RY LUP', 'V* AA TAU', 'HD 135344b', 'V* TW HYA']\n",
      "   Objects not found: []\n",
      "Exporting and object set based on a list of requested objects.\n",
      "SpExoDisk database initialized.\n",
      "  Output objects collection exported.\n",
      "   Objects found: ['V* RU LUP']\n",
      "   Objects not found: []\n",
      "\n",
      "0 of 12 objects were not found.\n",
      "\n",
      "12 of 12 objects were found.\n"
     ]
    }
   ],
   "source": [
    "star_names_file = os.path.join(ref_dir, 'star_lists', \"may2020_star_list.csv\")\n",
    "print(\"Using Star List from:\", star_names_file)\n",
    "not_found_names, found_names, output_collection = oc.export_object_set(star_names_file=star_names_file)\n",
    "not_found_names_ruLup, found_names_ruLup, output_collection_ruLup = oc.export_object_set(string_name_list=[\"V* RU LUP\"])\n",
    "total_objects = len(not_found_names) + len(found_names)\n",
    "print(\"\\n\" + str(len(not_found_names)) + \" of \" + str(total_objects) + \" objects were not found.\")\n",
    "for not_found_name in not_found_names:\n",
    "    print(\"  \" + str(not_found_name))\n",
    "\n",
    "print(\"\\n\" + str(len(found_names)) + \" of \" + str(total_objects) + \" objects were found.\")"
   ]
  },
  {
   "cell_type": "markdown",
   "metadata": {
    "pycharm": {
     "name": "#%% md\n"
    }
   },
   "source": [
    "## Use the .write() method on an ObjectCollection to produce a .csv file\n",
    "\n",
    "By default, the file's name is based on today's date:\n",
    "YYYY_MM_DD_SpExoDisksOutput.csv\n",
    "\n",
    "and the file is located in the directory:\n",
    "/SpExoDisks/spexodisks/load/data_products/"
   ]
  },
  {
   "cell_type": "code",
   "execution_count": 7,
   "metadata": {
    "pycharm": {
     "name": "#%%\n"
    }
   },
   "outputs": [
    {
     "name": "stdout",
     "output_type": "stream",
     "text": [
      "\n",
      " Output SpExoDisks file written to: C:\\Users\\chw3k5\\PycharmProjects\\SpExoDisks\\spexodisks\\load\\data_products\\2020_05_27_SpExoDisksOutput.csv \n"
     ]
    }
   ],
   "source": [
    "output_collection.write()"
   ]
  },
  {
   "cell_type": "markdown",
   "metadata": {},
   "source": [
    "You can output a file with a different name or location\n",
    "by using the keyword argument \"file_name\" in the .write() method"
   ]
  },
  {
   "cell_type": "code",
   "execution_count": 8,
   "metadata": {
    "pycharm": {
     "name": "#%%\n"
    }
   },
   "outputs": [
    {
     "name": "stdout",
     "output_type": "stream",
     "text": [
      "\n",
      " Output SpExoDisks file written to: C:\\Users\\chw3k5\\PycharmProjects\\SpExoDisks\\spexodisks\\load\\data_products\\subset_output.csv \n"
     ]
    }
   ],
   "source": [
    "full_file_name = os.path.join(data_pro_dir, \"subset_output.csv\")\n",
    "output_collection.write(file_name=full_file_name)"
   ]
  },
  {
   "cell_type": "markdown",
   "metadata": {
    "pycharm": {
     "name": "#%% md\n"
    }
   },
   "source": [
    "You can also write out all of the data using the same tool. This is because\n",
    "the \"oc\" variable, which holds all available data\n",
    "in this example, is an instance of\n",
    "the class ObjectCollection."
   ]
  },
  {
   "cell_type": "code",
   "execution_count": 9,
   "metadata": {
    "pycharm": {
     "name": "#%%\n"
    }
   },
   "outputs": [
    {
     "name": "stdout",
     "output_type": "stream",
     "text": [
      "\n",
      " Output SpExoDisks file written to: C:\\Users\\chw3k5\\PycharmProjects\\SpExoDisks\\spexodisks\\load\\data_products\\2020_05_27_SpExoDisksOutput.csv \n"
     ]
    }
   ],
   "source": [
    "oc.write()\n"
   ]
  },
  {
   "cell_type": "markdown",
   "metadata": {
    "pycharm": {
     "name": "#%% md\n"
    }
   },
   "source": [
    "Below is a small amount of clean up code to delete the\n",
    "test files."
   ]
  },
  {
   "cell_type": "code",
   "execution_count": 10,
   "metadata": {
    "pycharm": {
     "name": "#%%\n"
    }
   },
   "outputs": [],
   "source": [
    "if input(\"Delete the file: \" + str(full_file_name) + \"\\n[y/n]\").lower() in {\"y\", 'yes', \"true\"}:\n",
    "    os.remove(full_file_name)\n",
    "todays_output_file_name = oc.output_file\n",
    "if input(\"Delete the file: \" + str(todays_output_file_name) + \"\\n[y/n]\").lower() in {\"y\", 'yes', \"true\"}:\n",
    "    os.remove(todays_output_file_name)"
   ]
  }
 ],
 "metadata": {
  "kernelspec": {
   "display_name": "Python 3",
   "language": "python",
   "name": "python3"
  },
  "language_info": {
   "codemirror_mode": {
    "name": "ipython",
    "version": 3
   },
   "file_extension": ".py",
   "mimetype": "text/x-python",
   "name": "python",
   "nbconvert_exporter": "python",
   "pygments_lexer": "ipython3",
   "version": "3.7.2rc1"
  }
 },
 "nbformat": 4,
 "nbformat_minor": 1
}
